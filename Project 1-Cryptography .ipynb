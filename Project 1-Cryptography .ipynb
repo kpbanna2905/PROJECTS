{
 "cells": [
  {
   "cell_type": "markdown",
   "metadata": {},
   "source": [
    "# Cryptography"
   ]
  },
  {
   "cell_type": "code",
   "execution_count": null,
   "metadata": {},
   "outputs": [],
   "source": [
    "!pip install cryptography\n"
   ]
  },
  {
   "cell_type": "code",
   "execution_count": null,
   "metadata": {},
   "outputs": [],
   "source": [
    "from cryptography.fernet import Fernet"
   ]
  },
  {
   "cell_type": "code",
   "execution_count": null,
   "metadata": {},
   "outputs": [],
   "source": [
    "def genratePassKey():\n",
    "    key = Fernet.generate_key()\n",
    "    print(key)\n",
    "    print(type(key))\n",
    "    abc = open(\"PassKey.key\",'wb')\n",
    "    abc.write(key)\n",
    "    abc.close()"
   ]
  },
  {
   "cell_type": "code",
   "execution_count": null,
   "metadata": {},
   "outputs": [],
   "source": [
    "genratePasskey()"
   ]
  },
  {
   "cell_type": "code",
   "execution_count": null,
   "metadata": {},
   "outputs": [],
   "source": [
    "def getMyKey():\n",
    "    abc = open(\"PasswordKey.key\",'rb')\n",
    "    return abc.read()"
   ]
  },
  {
   "cell_type": "code",
   "execution_count": null,
   "metadata": {},
   "outputs": [],
   "source": [
    "def getContentFromUser():\n",
    "    return input(\"Enter the Content you want to Encrypt in your python Script\")"
   ]
  },
  {
   "cell_type": "code",
   "execution_count": null,
   "metadata": {},
   "outputs": [],
   "source": [
    "def encryptMessage(message_normal):\n",
    "    key = getMyKey()\n",
    "    k = Fernet(key)\n",
    "    encrypted_Message = k.encrypt(message_normal)\n",
    "    return encrypted_Message"
   ]
  },
  {
   "cell_type": "code",
   "execution_count": null,
   "metadata": {},
   "outputs": [],
   "source": [
    "encryptMessage(b\" HEY THIS IS MY ATM NUMBER 234451\")"
   ]
  },
  {
   "cell_type": "code",
   "execution_count": null,
   "metadata": {},
   "outputs": [],
   "source": [
    "def decryptMessage(message_secret):\n",
    "    key = getMyKey()\n",
    "    k = Fernet(key)\n",
    "    decrypted_Message = k.decrypt(message_secret)\n",
    "    return decrypted_Message"
   ]
  },
  {
   "cell_type": "code",
   "execution_count": null,
   "metadata": {},
   "outputs": [],
   "source": []
  },
  {
   "cell_type": "code",
   "execution_count": null,
   "metadata": {},
   "outputs": [],
   "source": []
  },
  {
   "cell_type": "code",
   "execution_count": null,
   "metadata": {},
   "outputs": [],
   "source": []
  },
  {
   "cell_type": "code",
   "execution_count": null,
   "metadata": {},
   "outputs": [],
   "source": [
    "\n",
    "In [7]:\n",
    "Requirement already satisfied: cryptography in /opt/anaconda3/lib/python3.7/site-packages (2.7)\n",
    "Requirement already satisfied: cffi!=1.11.3,>=1.8 in /opt/anaconda3/lib/python3.7/site-packages (from cryptography) (1.12.3)\n",
    "Requirement already satisfied: six>=1.4.1 in /opt/anaconda3/lib/python3.7/site-packages (from cryptography) (1.12.0)\n",
    "Requirement already satisfied: asn1crypto>=0.21.0 in /opt/anaconda3/lib/python3.7/site-packages (from cryptography) (1.0.1)\n",
    "Requirement already satisfied: pycparser in /opt/anaconda3/lib/python3.7/site-packages (from cffi!=1.11.3,>=1.8->cryptography) (2.19)\n",
    "WARNING: You are using pip version 20.0.2; however, version 20.3.1 is available.\n",
    "You should consider upgrading via the '/opt/anaconda3/bin/python -m pip install --upgrade pip' command.\n",
    "In [8]:\n",
    "\n",
    "In [14]:\n",
    "\n",
    "In [15]:\n",
    "\n",
    "b'QMZ49VHcOXOvTdJjHckRfgK5YkqWID4X2m7zX72AsWg='\n",
    "<class 'bytes'>\n",
    "In [16]:\n",
    "\n",
    "In [17]:\n",
    "\n",
    "Out[17]:\n",
    "b'QMZ49VHcOXOvTdJjHckRfgK5YkqWID4X2m7zX72AsWg='\n",
    "In [18]:\n",
    "\n",
    "In [19]:\n",
    "getContentFromUser()\n",
    "Enter the Content you want to Encrypt in your python ScriptHEY I LOVE LetsUpgrade\n",
    "Out[19]:\n",
    "'HEY I LOVE LetsUpgrade'\n",
    "In [20]:\n",
    "\n",
    "In [25]:\n",
    "\n",
    "Out[25]:\n",
    "b'gAAAAABf14gkjHUotk7iW7mMgf7OaPPJeJE4yhIoHxtaBPTmwQVyBw0a8bDt-ze8hTvrpg-R44f2CK3uSpcmiHOri1ad_KFycoLpShgYEaF4e3bga6Ivl5tFGW8twonXFKjdYpU7atby'\n",
    "In [28]:\n",
    "\n",
    "In [30]:\n",
    "decryptMessage(b'gAAAAABf14gkjHUotk7iW7mMgf7OaPPJeJE4yhIoHxtaBPTmwQVyBw0a8bDt-ze8hTvrpg-R44f2CK3uSpcmiHOri1ad_KFycoLpShgYEaF4e3bga6Ivl5tFGW8twonXFKjdYpU7atby')\n",
    "---------------------------------------------------------------------------\n",
    "ValueError                                Traceback (most recent call last)\n",
    "/opt/anaconda3/lib/python3.7/site-packages/cryptography/fernet.py in _decrypt_data(self, data, timestamp, ttl)\n",
    "    132         try:\n",
    "--> 133             unpadded += unpadder.finalize()\n",
    "    134         except ValueError:\n",
    "\n",
    "/opt/anaconda3/lib/python3.7/site-packages/cryptography/hazmat/primitives/padding.py in finalize(self)\n",
    "    143             self._buffer, self.block_size,\n",
    "--> 144             lib.Cryptography_check_pkcs7_padding)\n",
    "    145         self._buffer = None\n",
    "\n",
    "/opt/anaconda3/lib/python3.7/site-packages/cryptography/hazmat/primitives/padding.py in _byte_unpadding_check(buffer_, block_size, checkfn)\n",
    "     88     if not valid:\n",
    "---> 89         raise ValueError(\"Invalid padding bytes.\")\n",
    "     90 \n",
    "\n",
    "ValueError: Invalid padding bytes.\n",
    "\n",
    "During handling of the above exception, another exception occurred:\n",
    "\n",
    "InvalidToken                              Traceback (most recent call last)\n",
    "<ipython-input-30-aad59440de04> in <module>\n",
    "----> 1 decryptMessage(b'gAAAAABf14gkjHUotk7iW7mMgf7OaPPJeJE4yhIoHxtaBPTmwQVyBw0a8bDt-ze8hTvrpg-R44f2CK3uSpcmiHOri1ad_KFycoLpShgYEaF4e3bga6Ivl5tFGW8twonXFKjdYpU7atby')\n",
    "\n",
    "<ipython-input-28-63c4322095a1> in decryptMessage(message_secret)\n",
    "      2     key = getMyKey()\n",
    "      3     k = Fernet(key)\n",
    "----> 4     decrypted_Message = k.decrypt(message_secret)\n",
    "      5     return decrypted_Message\n",
    "\n",
    "/opt/anaconda3/lib/python3.7/site-packages/cryptography/fernet.py in decrypt(self, token, ttl)\n",
    "     73     def decrypt(self, token, ttl=None):\n",
    "     74         timestamp, data = Fernet._get_unverified_token_data(token)\n",
    "---> 75         return self._decrypt_data(data, timestamp, ttl)\n",
    "     76 \n",
    "     77     def extract_timestamp(self, token):\n",
    "\n",
    "/opt/anaconda3/lib/python3.7/site-packages/cryptography/fernet.py in _decrypt_data(self, data, timestamp, ttl)\n",
    "    133             unpadded += unpadder.finalize()\n",
    "    134         except ValueError:\n",
    "--> 135             raise InvalidToken\n",
    "    136         return unpadded\n",
    "    137 \n",
    "\n",
    "InvalidToken: "
   ]
  }
 ],
 "metadata": {
  "kernelspec": {
   "display_name": "Python 3",
   "language": "python",
   "name": "python3"
  },
  "language_info": {
   "codemirror_mode": {
    "name": "ipython",
    "version": 3
   },
   "file_extension": ".py",
   "mimetype": "text/x-python",
   "name": "python",
   "nbconvert_exporter": "python",
   "pygments_lexer": "ipython3",
   "version": "3.8.3"
  }
 },
 "nbformat": 4,
 "nbformat_minor": 4
}
